{
 "cells": [
  {
   "cell_type": "code",
   "execution_count": null,
   "source": [
    "import shutil\n",
    "\n",
    "shutil.make_archive('.', 'zip', root_dir='.')"
   ],
   "outputs": [],
   "metadata": {}
  }
 ],
 "metadata": {
  "orig_nbformat": 4,
  "language_info": {
   "name": "python"
  }
 },
 "nbformat": 4,
 "nbformat_minor": 2
}